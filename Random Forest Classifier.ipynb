{
 "cells": [
  {
   "cell_type": "code",
   "execution_count": 8,
   "id": "7c8d2cb7",
   "metadata": {},
   "outputs": [
    {
     "data": {
      "text/html": [
       "<div>\n",
       "<style scoped>\n",
       "    .dataframe tbody tr th:only-of-type {\n",
       "        vertical-align: middle;\n",
       "    }\n",
       "\n",
       "    .dataframe tbody tr th {\n",
       "        vertical-align: top;\n",
       "    }\n",
       "\n",
       "    .dataframe thead th {\n",
       "        text-align: right;\n",
       "    }\n",
       "</style>\n",
       "<table border=\"1\" class=\"dataframe\">\n",
       "  <thead>\n",
       "    <tr style=\"text-align: right;\">\n",
       "      <th></th>\n",
       "      <th>Unnamed: 0</th>\n",
       "      <th>Provincia de ubicación</th>\n",
       "      <th>Clase de establecimiento</th>\n",
       "      <th>Tipo de establecimiento</th>\n",
       "      <th>Entidad</th>\n",
       "      <th>Sector del establecimento</th>\n",
       "      <th>Sexo</th>\n",
       "      <th>Edad</th>\n",
       "      <th>Provincia_Residencia</th>\n",
       "      <th>Año_Ingreso</th>\n",
       "      <th>Mes_Ingreso</th>\n",
       "      <th>Dia_Ingreso</th>\n",
       "      <th>Dias_Estadia</th>\n",
       "      <th>Clasificacion_enfermedad</th>\n",
       "      <th>Enfermedad</th>\n",
       "      <th>Total Dotación de camas del Establecimiento</th>\n",
       "      <th>año</th>\n",
       "    </tr>\n",
       "  </thead>\n",
       "  <tbody>\n",
       "    <tr>\n",
       "      <th>0</th>\n",
       "      <td>0</td>\n",
       "      <td>AZUAY</td>\n",
       "      <td>Clínica general (sin especialidad)</td>\n",
       "      <td>Clínicas generales sin especialidad</td>\n",
       "      <td>Privados con fines de lucro</td>\n",
       "      <td>Privado con Fines de Lucro</td>\n",
       "      <td>Hombre</td>\n",
       "      <td>56</td>\n",
       "      <td>AZUAY</td>\n",
       "      <td>2007</td>\n",
       "      <td>Diciembre</td>\n",
       "      <td>26</td>\n",
       "      <td>6</td>\n",
       "      <td>Tumores malignos de las vías urinarias (C64-C68)</td>\n",
       "      <td>Otros tumores malignos de las vías urinarias</td>\n",
       "      <td>50</td>\n",
       "      <td>2008</td>\n",
       "    </tr>\n",
       "    <tr>\n",
       "      <th>1</th>\n",
       "      <td>1</td>\n",
       "      <td>AZUAY</td>\n",
       "      <td>Clínica general (sin especialidad)</td>\n",
       "      <td>Clínicas generales sin especialidad</td>\n",
       "      <td>Privados con fines de lucro</td>\n",
       "      <td>Privado con Fines de Lucro</td>\n",
       "      <td>Hombre</td>\n",
       "      <td>28</td>\n",
       "      <td>AZUAY</td>\n",
       "      <td>2007</td>\n",
       "      <td>Diciembre</td>\n",
       "      <td>31</td>\n",
       "      <td>1</td>\n",
       "      <td>Traumatismos del hombro y del brazo (S40-S49)</td>\n",
       "      <td>Fracturas de otros huesos de los miembros</td>\n",
       "      <td>22</td>\n",
       "      <td>2008</td>\n",
       "    </tr>\n",
       "    <tr>\n",
       "      <th>2</th>\n",
       "      <td>2</td>\n",
       "      <td>AZUAY</td>\n",
       "      <td>Clínica general (sin especialidad)</td>\n",
       "      <td>Clínicas generales sin especialidad</td>\n",
       "      <td>Privados con fines de lucro</td>\n",
       "      <td>Privado con Fines de Lucro</td>\n",
       "      <td>Mujer</td>\n",
       "      <td>6</td>\n",
       "      <td>CAÑAR</td>\n",
       "      <td>2007</td>\n",
       "      <td>Diciembre</td>\n",
       "      <td>29</td>\n",
       "      <td>3</td>\n",
       "      <td>Enfermedades infecciosas intestinales (A00-A09)</td>\n",
       "      <td>Diarrea y gastroenteritis de presunto origen i...</td>\n",
       "      <td>51</td>\n",
       "      <td>2008</td>\n",
       "    </tr>\n",
       "    <tr>\n",
       "      <th>3</th>\n",
       "      <td>3</td>\n",
       "      <td>AZUAY</td>\n",
       "      <td>Clínica general (sin especialidad)</td>\n",
       "      <td>Clínicas generales sin especialidad</td>\n",
       "      <td>Privados con fines de lucro</td>\n",
       "      <td>Privado con Fines de Lucro</td>\n",
       "      <td>Mujer</td>\n",
       "      <td>10</td>\n",
       "      <td>AZUAY</td>\n",
       "      <td>2007</td>\n",
       "      <td>Diciembre</td>\n",
       "      <td>31</td>\n",
       "      <td>1</td>\n",
       "      <td>Síntomas y signos que involucran el sistema di...</td>\n",
       "      <td>Dolor abdominal y pélvico</td>\n",
       "      <td>277</td>\n",
       "      <td>2008</td>\n",
       "    </tr>\n",
       "    <tr>\n",
       "      <th>4</th>\n",
       "      <td>4</td>\n",
       "      <td>AZUAY</td>\n",
       "      <td>Clínica general (sin especialidad)</td>\n",
       "      <td>Clínicas generales sin especialidad</td>\n",
       "      <td>Privados con fines de lucro</td>\n",
       "      <td>Privado con Fines de Lucro</td>\n",
       "      <td>Mujer</td>\n",
       "      <td>2</td>\n",
       "      <td>AZUAY</td>\n",
       "      <td>2007</td>\n",
       "      <td>Diciembre</td>\n",
       "      <td>26</td>\n",
       "      <td>6</td>\n",
       "      <td>Influenza [gripe] y neumonía (J10-J18)</td>\n",
       "      <td>Neumonía</td>\n",
       "      <td>208</td>\n",
       "      <td>2008</td>\n",
       "    </tr>\n",
       "  </tbody>\n",
       "</table>\n",
       "</div>"
      ],
      "text/plain": [
       "   Unnamed: 0 Provincia de ubicación            Clase de establecimiento  \\\n",
       "0           0                  AZUAY  Clínica general (sin especialidad)   \n",
       "1           1                  AZUAY  Clínica general (sin especialidad)   \n",
       "2           2                  AZUAY  Clínica general (sin especialidad)   \n",
       "3           3                  AZUAY  Clínica general (sin especialidad)   \n",
       "4           4                  AZUAY  Clínica general (sin especialidad)   \n",
       "\n",
       "               Tipo de establecimiento                      Entidad  \\\n",
       "0  Clínicas generales sin especialidad  Privados con fines de lucro   \n",
       "1  Clínicas generales sin especialidad  Privados con fines de lucro   \n",
       "2  Clínicas generales sin especialidad  Privados con fines de lucro   \n",
       "3  Clínicas generales sin especialidad  Privados con fines de lucro   \n",
       "4  Clínicas generales sin especialidad  Privados con fines de lucro   \n",
       "\n",
       "    Sector del establecimento    Sexo  Edad Provincia_Residencia  Año_Ingreso  \\\n",
       "0  Privado con Fines de Lucro  Hombre    56                AZUAY         2007   \n",
       "1  Privado con Fines de Lucro  Hombre    28                AZUAY         2007   \n",
       "2  Privado con Fines de Lucro   Mujer     6                CAÑAR         2007   \n",
       "3  Privado con Fines de Lucro   Mujer    10                AZUAY         2007   \n",
       "4  Privado con Fines de Lucro   Mujer     2                AZUAY         2007   \n",
       "\n",
       "  Mes_Ingreso  Dia_Ingreso  Dias_Estadia  \\\n",
       "0   Diciembre           26             6   \n",
       "1   Diciembre           31             1   \n",
       "2   Diciembre           29             3   \n",
       "3   Diciembre           31             1   \n",
       "4   Diciembre           26             6   \n",
       "\n",
       "                            Clasificacion_enfermedad  \\\n",
       "0   Tumores malignos de las vías urinarias (C64-C68)   \n",
       "1      Traumatismos del hombro y del brazo (S40-S49)   \n",
       "2    Enfermedades infecciosas intestinales (A00-A09)   \n",
       "3  Síntomas y signos que involucran el sistema di...   \n",
       "4             Influenza [gripe] y neumonía (J10-J18)   \n",
       "\n",
       "                                          Enfermedad  \\\n",
       "0       Otros tumores malignos de las vías urinarias   \n",
       "1          Fracturas de otros huesos de los miembros   \n",
       "2  Diarrea y gastroenteritis de presunto origen i...   \n",
       "3                          Dolor abdominal y pélvico   \n",
       "4                                           Neumonía   \n",
       "\n",
       "   Total Dotación de camas del Establecimiento   año  \n",
       "0                                           50  2008  \n",
       "1                                           22  2008  \n",
       "2                                           51  2008  \n",
       "3                                          277  2008  \n",
       "4                                          208  2008  "
      ]
     },
     "execution_count": 8,
     "metadata": {},
     "output_type": "execute_result"
    }
   ],
   "source": [
    "import pandas as pd\n",
    "from sklearn.model_selection import train_test_split\n",
    "from sklearn.ensemble import RandomForestClassifier\n",
    "from sklearn.metrics import accuracy_score\n",
    "import pickle\n",
    "\n",
    "ruta_archivo = 'C:/Users/Geovanna/Documents/Datos Camillas/DATA/Data_Final_egresos_y_camillas.csv'\n",
    "\n",
    "# Especificar el delimitador al cargar el archivo CSV\n",
    "data = pd.read_csv(ruta_archivo, delimiter=';')\n",
    "\n",
    "# Mostrar las primeras filas del DataFrame para verificar la carga\n",
    "data.head()\n"
   ]
  },
  {
   "cell_type": "code",
   "execution_count": 2,
   "id": "7e4b3757",
   "metadata": {},
   "outputs": [],
   "source": [
    "# Definir las características (X) y la variable objetivo (y)\n",
    "X = data[['Provincia de ubicación', \n",
    "          'Sector del establecimento',\n",
    "          'Tipo de establecimiento',\n",
    "          'Mes_Ingreso', \n",
    "          'Dias_Estadia',\n",
    "          'Sexo', \n",
    "          'Edad', \n",
    "          'Dias_Estadia',\n",
    "          'Total Dotación de camas del Establecimiento',\n",
    "          'Clasificacion_enfermedad']]\n",
    "\n",
    "\n",
    "\n",
    "\n",
    "y = data['Clase de establecimiento']  # Utiliza la variable objetivo deseada\n",
    "\n",
    "# Convertir variables categóricas en variables numéricas usando one-hot encoding\n",
    "X = pd.get_dummies(X)\n"
   ]
  },
  {
   "cell_type": "markdown",
   "id": "652abb16",
   "metadata": {},
   "source": [
    "# Dividir los datos"
   ]
  },
  {
   "cell_type": "code",
   "execution_count": 3,
   "id": "1099608f",
   "metadata": {},
   "outputs": [],
   "source": [
    "# Dividir los datos en conjuntos de entrenamiento y prueba\n",
    "X_train, X_test, y_train, y_test = train_test_split(X, y, test_size=0.2, random_state=42)\n"
   ]
  },
  {
   "cell_type": "markdown",
   "id": "7c0e0ad1",
   "metadata": {},
   "source": [
    "# Entrenar el modelo"
   ]
  },
  {
   "cell_type": "code",
   "execution_count": 5,
   "id": "73fe5291",
   "metadata": {},
   "outputs": [],
   "source": [
    "# Crear y entrenar el modelo de Random Forest para clasificación multiclase\n",
    "model_rf = RandomForestClassifier(random_state=42)\n",
    "model_rf.fit(X_train, y_train)\n",
    "\n"
   ]
  },
  {
   "cell_type": "markdown",
   "id": "f7c69a56",
   "metadata": {},
   "source": [
    "# Ejecucion del modelo"
   ]
  },
  {
   "cell_type": "code",
   "execution_count": 13,
   "id": "6d4bdd10",
   "metadata": {},
   "outputs": [],
   "source": [
    "# Ejecución del modelo en el conjunto de prueba\n",
    "predictions_rf = model_rf.predict(X_test)"
   ]
  },
  {
   "cell_type": "code",
   "execution_count": 14,
   "id": "39d81d52",
   "metadata": {},
   "outputs": [
    {
     "name": "stdout",
     "output_type": "stream",
     "text": [
      "Precisión del modelo: 0.87\n"
     ]
    }
   ],
   "source": [
    "# Calcular la precisión del modelo\n",
    "accuracy_rf = accuracy_score(y_test, predictions_rf)\n",
    "print(f'Precisión del modelo: {accuracy_rf:.2f}')\n"
   ]
  },
  {
   "cell_type": "markdown",
   "id": "05130742",
   "metadata": {},
   "source": [
    "# Validacion Crusada "
   ]
  },
  {
   "cell_type": "code",
   "execution_count": 11,
   "id": "c6440b05",
   "metadata": {},
   "outputs": [
    {
     "name": "stdout",
     "output_type": "stream",
     "text": [
      "Precisión en el pliegue 1: 0.81\n",
      "Precisión en el pliegue 2: 0.72\n",
      "Precisión en el pliegue 3: 0.77\n",
      "Precisión en el pliegue 4: 0.81\n",
      "Precisión en el pliegue 5: 0.76\n",
      "Precisión media de la validación cruzada: 0.77\n"
     ]
    }
   ],
   "source": [
    "# Validación cruzada\n",
    "from sklearn.model_selection import cross_val_score\n",
    "\n",
    "# Crear el modelo de Random Forest para clasificación multiclase\n",
    "model_rf_cv = RandomForestClassifier(random_state=42)\n",
    "\n",
    "# Realizar validación cruzada y obtener puntuaciones de precisión\n",
    "cross_val_scores = cross_val_score(model_rf_cv, X, y, cv=5)  # 5-fold cross-validation\n",
    "\n",
    "# Imprimir las puntuaciones de precisión en cada pliegue\n",
    "for fold_idx, score in enumerate(cross_val_scores, start=1):\n",
    "    print(f'Precisión en el pliegue {fold_idx}: {score:.2f}')\n",
    "\n",
    "# Calcular y mostrar la precisión media de la validación cruzada\n",
    "average_accuracy = cross_val_scores.mean()\n",
    "print(f'Precisión media de la validación cruzada: {average_accuracy:.2f}')"
   ]
  },
  {
   "cell_type": "markdown",
   "id": "ec098b7b",
   "metadata": {},
   "source": [
    "# Grabar el modelo en PKL"
   ]
  },
  {
   "cell_type": "code",
   "execution_count": 12,
   "id": "1d68b81a",
   "metadata": {},
   "outputs": [],
   "source": [
    "#Grabamos el modelo en el directorio  \n",
    "pkl_filename = \"C:/Users/Geovanna/Documents/Datos Camillas/DATA/Modelo_Random_Forest.pkl\"\n",
    "with open(pkl_filename, 'wb') as file:\n",
    "    pickle.dump(model_rf, file)"
   ]
  },
  {
   "cell_type": "code",
   "execution_count": null,
   "id": "30502577",
   "metadata": {},
   "outputs": [],
   "source": []
  }
 ],
 "metadata": {
  "kernelspec": {
   "display_name": "Python 3 (ipykernel)",
   "language": "python",
   "name": "python3"
  },
  "language_info": {
   "codemirror_mode": {
    "name": "ipython",
    "version": 3
   },
   "file_extension": ".py",
   "mimetype": "text/x-python",
   "name": "python",
   "nbconvert_exporter": "python",
   "pygments_lexer": "ipython3",
   "version": "3.11.4"
  }
 },
 "nbformat": 4,
 "nbformat_minor": 5
}
